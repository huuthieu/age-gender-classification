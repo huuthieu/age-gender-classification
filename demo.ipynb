{
  "nbformat": 4,
  "nbformat_minor": 0,
  "metadata": {
    "colab": {
      "name": "demo.ipynb",
      "provenance": []
    },
    "kernelspec": {
      "name": "python3",
      "display_name": "Python 3"
    },
    "language_info": {
      "name": "python"
    },
    "accelerator": "GPU",
    "gpuClass": "standard"
  },
  "cells": [
    {
      "cell_type": "code",
      "execution_count": 1,
      "metadata": {
        "colab": {
          "base_uri": "https://localhost:8080/"
        },
        "id": "AP_odZ8E1TMx",
        "outputId": "1055ed73-2369-4c0b-af55-c4ceb5f957ce"
      },
      "outputs": [
        {
          "output_type": "stream",
          "name": "stdout",
          "text": [
            "Looking in indexes: https://pypi.org/simple, https://us-python.pkg.dev/colab-wheels/public/simple/\n",
            "Collecting mxnet-cu110\n",
            "  Downloading mxnet_cu110-1.9.1-py3-none-manylinux2014_x86_64.whl (327.3 MB)\n",
            "\u001b[K     |████████████████████████████████| 327.3 MB 5.9 kB/s \n",
            "\u001b[?25hRequirement already satisfied: numpy<2.0.0,>1.16.0 in /usr/local/lib/python3.7/dist-packages (from mxnet-cu110) (1.21.6)\n",
            "Collecting graphviz<0.9.0,>=0.8.1\n",
            "  Downloading graphviz-0.8.4-py2.py3-none-any.whl (16 kB)\n",
            "Requirement already satisfied: requests<3,>=2.20.0 in /usr/local/lib/python3.7/dist-packages (from mxnet-cu110) (2.23.0)\n",
            "Requirement already satisfied: idna<3,>=2.5 in /usr/local/lib/python3.7/dist-packages (from requests<3,>=2.20.0->mxnet-cu110) (2.10)\n",
            "Requirement already satisfied: chardet<4,>=3.0.2 in /usr/local/lib/python3.7/dist-packages (from requests<3,>=2.20.0->mxnet-cu110) (3.0.4)\n",
            "Requirement already satisfied: certifi>=2017.4.17 in /usr/local/lib/python3.7/dist-packages (from requests<3,>=2.20.0->mxnet-cu110) (2022.6.15)\n",
            "Requirement already satisfied: urllib3!=1.25.0,!=1.25.1,<1.26,>=1.21.1 in /usr/local/lib/python3.7/dist-packages (from requests<3,>=2.20.0->mxnet-cu110) (1.24.3)\n",
            "Installing collected packages: graphviz, mxnet-cu110\n",
            "  Attempting uninstall: graphviz\n",
            "    Found existing installation: graphviz 0.10.1\n",
            "    Uninstalling graphviz-0.10.1:\n",
            "      Successfully uninstalled graphviz-0.10.1\n",
            "Successfully installed graphviz-0.8.4 mxnet-cu110-1.9.1\n"
          ]
        }
      ],
      "source": [
        "!pip install mxnet-cu110"
      ]
    },
    {
      "cell_type": "code",
      "source": [
        "!cp -r '/content/drive/MyDrive/Colab Notebooks/age-gender-classification.zip' .\n",
        "!unzip /content/age-gender-classification.zip"
      ],
      "metadata": {
        "colab": {
          "base_uri": "https://localhost:8080/"
        },
        "id": "zqBxCINr1T7A",
        "outputId": "29e5ac29-fba3-4a53-bacb-9624bbbca99e"
      },
      "execution_count": 5,
      "outputs": [
        {
          "output_type": "stream",
          "name": "stdout",
          "text": [
            "Archive:  /content/age-gender-classification.zip\n",
            "   creating: age-gender-classification/.git/\n",
            " extracting: age-gender-classification/.git/COMMIT_EDITMSG  \n",
            "  inflating: age-gender-classification/.git/config  \n",
            "  inflating: age-gender-classification/.git/description  \n",
            " extracting: age-gender-classification/.git/HEAD  \n",
            "   creating: age-gender-classification/.git/hooks/\n",
            "  inflating: age-gender-classification/.git/hooks/applypatch-msg.sample  \n",
            "  inflating: age-gender-classification/.git/hooks/commit-msg.sample  \n",
            "  inflating: age-gender-classification/.git/hooks/fsmonitor-watchman.sample  \n",
            "  inflating: age-gender-classification/.git/hooks/post-update.sample  \n",
            "  inflating: age-gender-classification/.git/hooks/pre-applypatch.sample  \n",
            "  inflating: age-gender-classification/.git/hooks/pre-commit.sample  \n",
            "  inflating: age-gender-classification/.git/hooks/pre-merge-commit.sample  \n",
            "  inflating: age-gender-classification/.git/hooks/prepare-commit-msg.sample  \n",
            "  inflating: age-gender-classification/.git/hooks/pre-push.sample  \n",
            "  inflating: age-gender-classification/.git/hooks/pre-rebase.sample  \n",
            "  inflating: age-gender-classification/.git/hooks/pre-receive.sample  \n",
            "  inflating: age-gender-classification/.git/hooks/push-to-checkout.sample  \n",
            "  inflating: age-gender-classification/.git/hooks/update.sample  \n",
            "  inflating: age-gender-classification/.git/index  \n",
            "   creating: age-gender-classification/.git/info/\n",
            "  inflating: age-gender-classification/.git/info/exclude  \n",
            "   creating: age-gender-classification/.git/logs/\n",
            "  inflating: age-gender-classification/.git/logs/HEAD  \n",
            "   creating: age-gender-classification/.git/logs/refs/\n",
            "   creating: age-gender-classification/.git/logs/refs/heads/\n",
            "  inflating: age-gender-classification/.git/logs/refs/heads/main  \n",
            "   creating: age-gender-classification/.git/logs/refs/remotes/\n",
            "   creating: age-gender-classification/.git/logs/refs/remotes/origin/\n",
            "  inflating: age-gender-classification/.git/logs/refs/remotes/origin/HEAD  \n",
            "  inflating: age-gender-classification/.git/logs/refs/remotes/origin/main  \n",
            "   creating: age-gender-classification/.git/objects/\n",
            "   creating: age-gender-classification/.git/objects/0d/\n",
            " extracting: age-gender-classification/.git/objects/0d/9bf40d3013af2a8a0f3d793b50d75ac77e51a2  \n",
            "   creating: age-gender-classification/.git/objects/1c/\n",
            " extracting: age-gender-classification/.git/objects/1c/c2788595c1d92862cc479cfa4ec43e10e03840  \n",
            "   creating: age-gender-classification/.git/objects/2f/\n",
            " extracting: age-gender-classification/.git/objects/2f/162ebf22e78b65bba75f19b3aab715b55e5d93  \n",
            "   creating: age-gender-classification/.git/objects/30/\n",
            " extracting: age-gender-classification/.git/objects/30/d60840a9ba59f2114db624f017645a46c74408  \n",
            "   creating: age-gender-classification/.git/objects/53/\n",
            " extracting: age-gender-classification/.git/objects/53/d3e157a69a5c1e760210f898f6cf698e3eb547  \n",
            "   creating: age-gender-classification/.git/objects/5d/\n",
            " extracting: age-gender-classification/.git/objects/5d/3bfcc62635431ada7073709207efe565429cfe  \n",
            "   creating: age-gender-classification/.git/objects/78/\n",
            " extracting: age-gender-classification/.git/objects/78/a42a7b14d43a5652ad105d8170e74ee0b04c65  \n",
            "   creating: age-gender-classification/.git/objects/88/\n",
            " extracting: age-gender-classification/.git/objects/88/97c1a5b5069e5c7f74476e576d3a15f6201301  \n",
            "   creating: age-gender-classification/.git/objects/9e/\n",
            " extracting: age-gender-classification/.git/objects/9e/4af6ca81b6425be3d1a47a09dcb37e151533ae  \n",
            "   creating: age-gender-classification/.git/objects/bd/\n",
            " extracting: age-gender-classification/.git/objects/bd/845e0a7c04535bafe508fe32b750f630eed57c  \n",
            "   creating: age-gender-classification/.git/objects/be/\n",
            " extracting: age-gender-classification/.git/objects/be/3ba7aeaa5c136e0d5514bb988bd8368ed3c334  \n",
            "   creating: age-gender-classification/.git/objects/cd/\n",
            " extracting: age-gender-classification/.git/objects/cd/473d1617f21edf49f2d0f037385d3783366482  \n",
            "   creating: age-gender-classification/.git/objects/d5/\n",
            " extracting: age-gender-classification/.git/objects/d5/6f6254e0556ca814e428f8362f16fd9b8cb2f0  \n",
            "   creating: age-gender-classification/.git/objects/da/\n",
            " extracting: age-gender-classification/.git/objects/da/2cd27aae0ffcc8ba174b8525cbbaa3f3dff63a  \n",
            "   creating: age-gender-classification/.git/objects/dd/\n",
            " extracting: age-gender-classification/.git/objects/dd/fa69d9fb3f33b3bac6130cc4c2a5375cc98362  \n",
            "   creating: age-gender-classification/.git/objects/e9/\n",
            " extracting: age-gender-classification/.git/objects/e9/81a87908b49ba8b048d775a2a34abbce85d01f  \n",
            "   creating: age-gender-classification/.git/objects/ea/\n",
            " extracting: age-gender-classification/.git/objects/ea/8d7716a31c200ae7869d00460460fb7b073219  \n",
            "   creating: age-gender-classification/.git/objects/info/\n",
            "   creating: age-gender-classification/.git/objects/pack/\n",
            "  inflating: age-gender-classification/.git/objects/pack/pack-278e65f8c8dd55dbd56fa27b1fbbe0b4b2b0912d.idx  \n",
            "  inflating: age-gender-classification/.git/objects/pack/pack-278e65f8c8dd55dbd56fa27b1fbbe0b4b2b0912d.pack  \n",
            "  inflating: age-gender-classification/.git/packed-refs  \n",
            "   creating: age-gender-classification/.git/refs/\n",
            "   creating: age-gender-classification/.git/refs/heads/\n",
            " extracting: age-gender-classification/.git/refs/heads/main  \n",
            "   creating: age-gender-classification/.git/refs/remotes/\n",
            "   creating: age-gender-classification/.git/refs/remotes/origin/\n",
            " extracting: age-gender-classification/.git/refs/remotes/origin/HEAD  \n",
            " extracting: age-gender-classification/.git/refs/remotes/origin/main  \n",
            "   creating: age-gender-classification/.git/refs/tags/\n",
            "  inflating: age-gender-classification/.gitignore  \n",
            "  inflating: age-gender-classification/build_dataset.py  \n",
            "   creating: age-gender-classification/checkpoints/\n",
            "   creating: age-gender-classification/checkpoints/age/\n",
            "  inflating: age-gender-classification/checkpoints/age/agenet-0109.params  \n",
            "  inflating: age-gender-classification/checkpoints/age/agenet-symbol.json  \n",
            "   creating: age-gender-classification/checkpoints/gender/\n",
            "  inflating: age-gender-classification/checkpoints/gender/gendernet-0110.params  \n",
            "  inflating: age-gender-classification/checkpoints/gender/gendernet-symbol.json  \n",
            "   creating: age-gender-classification/config/\n",
            " extracting: age-gender-classification/config/__init__.py  \n",
            "  inflating: age-gender-classification/config/age_gender_config.py  \n",
            "  inflating: age-gender-classification/config/age_gender_deploy.py  \n",
            "  inflating: age-gender-classification/facealigner.py  \n",
            "  inflating: age-gender-classification/main.ipynb  \n",
            "   creating: age-gender-classification/output/\n",
            "  inflating: age-gender-classification/output/age_adience_mean.json  \n",
            "  inflating: age-gender-classification/output/age_le.cpickle  \n",
            "  inflating: age-gender-classification/output/gender_adience_mean.json  \n",
            "  inflating: age-gender-classification/output/gender_le.cpickle  \n",
            "   creating: age-gender-classification/pyimagesearch/\n",
            " extracting: age-gender-classification/pyimagesearch/__init__.py  \n",
            "   creating: age-gender-classification/pyimagesearch/mxcallbacks/\n",
            " extracting: age-gender-classification/pyimagesearch/mxcallbacks/__init__.py  \n",
            "  inflating: age-gender-classification/pyimagesearch/mxcallbacks/mxmetrics.py  \n",
            "   creating: age-gender-classification/pyimagesearch/nn/\n",
            " extracting: age-gender-classification/pyimagesearch/nn/__init__.py  \n",
            "  inflating: age-gender-classification/pyimagesearch/nn/mxagegender.py  \n",
            " extracting: age-gender-classification/pyimagesearch/nn/mxalexnet.py  \n",
            " extracting: age-gender-classification/pyimagesearch/nn/mxgooglenet.py  \n",
            " extracting: age-gender-classification/pyimagesearch/nn/mxresnet.py  \n",
            " extracting: age-gender-classification/pyimagesearch/nn/mxsqueezenet.py  \n",
            " extracting: age-gender-classification/pyimagesearch/nn/mxvggnet.py  \n",
            "  inflating: age-gender-classification/pyimagesearch/preprocessing.py  \n",
            "   creating: age-gender-classification/pyimagesearch/utils/\n",
            " extracting: age-gender-classification/pyimagesearch/utils/__init__.py  \n",
            "  inflating: age-gender-classification/pyimagesearch/utils/agegenderhelper.py  \n",
            " extracting: age-gender-classification/pyimagesearch/utils/catchahelper.py  \n",
            " extracting: age-gender-classification/pyimagesearch/utils/imagenethelper.py  \n",
            " extracting: age-gender-classification/pyimagesearch/utils/ranked.py  \n",
            " extracting: age-gender-classification/README.md  \n",
            "   creating: age-gender-classification/results/\n",
            "   creating: age-gender-classification/sample/\n",
            "  inflating: age-gender-classification/sample/1FT8ngZ9.jpg  \n",
            "  inflating: age-gender-classification/sample/children.png  \n",
            "  inflating: age-gender-classification/sample/images5404674_img_3474.jpg  \n",
            "  inflating: age-gender-classification/sample/VN.jpg  \n",
            "  inflating: age-gender-classification/shape_predictor_68_face_landmarks.dat  \n",
            "  inflating: age-gender-classification/test_accuracy.py  \n",
            "  inflating: age-gender-classification/test_prediction.py  \n",
            "  inflating: age-gender-classification/train.py  \n",
            "  inflating: age-gender-classification/vis_classification.py  \n"
          ]
        }
      ]
    },
    {
      "cell_type": "code",
      "source": [
        "!cp -r /content/age-gender-classification/facealigner.py /usr/local/lib/python3.7/dist-packages/imutils/face_utils/facealigner.py"
      ],
      "metadata": {
        "id": "sAUEucFY1bT1"
      },
      "execution_count": 6,
      "outputs": []
    },
    {
      "cell_type": "code",
      "source": [
        "!python /content/age-gender-classification/test_prediction.py -i /content/age-gender-classification/sample"
      ],
      "metadata": {
        "colab": {
          "base_uri": "https://localhost:8080/"
        },
        "id": "HCWmg4qu1b43",
        "outputId": "f7c41bcb-bad1-4892-f153-d2949d53142e"
      },
      "execution_count": 8,
      "outputs": [
        {
          "output_type": "stream",
          "name": "stdout",
          "text": [
            "[INFO] loading label encoders and mean files...\n",
            "[INFO] loading models...\n",
            "[INFO] compiling models...\n",
            "/content/age-gender-classification/test_prediction.py:49: DeprecationWarning: \u001b[91mmxnet.model.FeedForward has been deprecated. Please use mxnet.mod.Module instead.\u001b[0m\n",
            "  aux_params=ageModel.aux_params)\n",
            "/content/age-gender-classification/test_prediction.py:52: DeprecationWarning: \u001b[91mmxnet.model.FeedForward has been deprecated. Please use mxnet.mod.Module instead.\u001b[0m\n",
            "  aux_params=genderModel.aux_params)\n",
            "[INFO] processing /content/age-gender-classification/sample/1FT8ngZ9.jpg\n",
            "[06:37:19] ../src/executor/graph_executor.cc:1991: Subgraph backend MKLDNN is activated.\n",
            "[06:37:19] ../src/executor/graph_executor.cc:1991: Subgraph backend MKLDNN is activated.\n",
            "/usr/local/lib/python3.7/dist-packages/sklearn/preprocessing/_label.py:154: DataConversionWarning: A column-vector y was passed when a 1d array was expected. Please change the shape of y to (n_samples, ), for example using ravel().\n",
            "  y = column_or_1d(y, warn=True)\n",
            "[INFO] processing /content/age-gender-classification/sample/VN.jpg\n",
            "[INFO] processing /content/age-gender-classification/sample/children.png\n",
            "[INFO] processing /content/age-gender-classification/sample/images5404674_img_3474.jpg\n"
          ]
        }
      ]
    },
    {
      "cell_type": "code",
      "source": [
        ""
      ],
      "metadata": {
        "id": "1eEUrSNP3eKA"
      },
      "execution_count": null,
      "outputs": []
    }
  ]
}